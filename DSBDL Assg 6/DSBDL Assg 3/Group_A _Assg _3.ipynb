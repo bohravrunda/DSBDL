{
 "cells": [
  {
   "cell_type": "code",
   "execution_count": 1,
   "id": "f64f994a-6795-4766-b62c-b8288ca689ab",
   "metadata": {},
   "outputs": [],
   "source": [
    "import pandas as pd\n",
    "import numpy as np\n",
    "import seaborn as sns\n",
    "import matplotlib.pyplot as plt\n",
    "\n"
   ]
  },
  {
   "cell_type": "code",
   "execution_count": 2,
   "id": "88439ddc-15f1-4fc4-a3ec-9f6e761af31a",
   "metadata": {},
   "outputs": [
    {
     "name": "stdout",
     "output_type": "stream",
     "text": [
      "First 5 rows of the dataset:\n",
      "   CustomerID  Gender  Age  Annual Income (k$)  Spending Score (1-100)\n",
      "0           1    Male   19                  15                      39\n",
      "1           2    Male   21                  15                      81\n",
      "2           3  Female   20                  16                       6\n",
      "3           4  Female   23                  16                      77\n",
      "4           5  Female   31                  17                      40\n"
     ]
    }
   ],
   "source": [
    "dataset_path = \"ageIncome.csv\"\n",
    "age_income_df = pd.read_csv(dataset_path)\n",
    "\n",
    "# Step 3: Load the Dataset into pandas dataframe\n",
    "print(\"First 5 rows of the dataset:\")\n",
    "print(age_income_df.head())"
   ]
  },
  {
   "cell_type": "code",
   "execution_count": 3,
   "id": "b8c255cd-e15e-46ad-b2b5-c0f02710f9eb",
   "metadata": {},
   "outputs": [
    {
     "name": "stdout",
     "output_type": "stream",
     "text": [
      "\n",
      "Missing Values in Each Column:\n",
      "Series([], dtype: int64)\n"
     ]
    }
   ],
   "source": [
    "age_income_missing = age_income_df.isnull().sum()\n",
    "print(\"\\nMissing Values in Each Column:\")\n",
    "print(age_income_missing[age_income_missing > 0])"
   ]
  },
  {
   "cell_type": "code",
   "execution_count": 4,
   "id": "707de62d-11cf-4a6d-ab6e-4035563f5500",
   "metadata": {},
   "outputs": [
    {
     "name": "stdout",
     "output_type": "stream",
     "text": [
      "\n",
      "Statistical Summary:\n",
      "       CustomerID         Age  Annual Income (k$)  Spending Score (1-100)\n",
      "count  200.000000  200.000000          200.000000              200.000000\n",
      "mean   100.500000   38.850000           60.560000               50.200000\n",
      "std     57.879185   13.969007           26.264721               25.823522\n",
      "min      1.000000   18.000000           15.000000                1.000000\n",
      "25%     50.750000   28.750000           41.500000               34.750000\n",
      "50%    100.500000   36.000000           61.500000               50.000000\n",
      "75%    150.250000   49.000000           78.000000               73.000000\n",
      "max    200.000000   70.000000          137.000000               99.000000\n"
     ]
    }
   ],
   "source": [
    "age_income_description = age_income_df.describe()\n",
    "print(\"\\nStatistical Summary:\")\n",
    "print(age_income_description)"
   ]
  },
  {
   "cell_type": "code",
   "execution_count": 5,
   "id": "91275a55-52cd-431c-a851-fd7dfd08f5b7",
   "metadata": {},
   "outputs": [
    {
     "name": "stdout",
     "output_type": "stream",
     "text": [
      "\n",
      "Dataset Dimensions: (200, 5)\n"
     ]
    }
   ],
   "source": [
    "print(\"\\nDataset Dimensions:\", age_income_df.shape)"
   ]
  },
  {
   "cell_type": "code",
   "execution_count": 6,
   "id": "69611772-7243-4af6-8c15-2a33caac7310",
   "metadata": {},
   "outputs": [
    {
     "name": "stdout",
     "output_type": "stream",
     "text": [
      "\n",
      "Data Types:\n",
      "CustomerID                 int64\n",
      "Gender                    object\n",
      "Age                        int64\n",
      "Annual Income (k$)         int64\n",
      "Spending Score (1-100)     int64\n",
      "dtype: object\n"
     ]
    }
   ],
   "source": [
    "print(\"\\nData Types:\")\n",
    "print(age_income_df.dtypes)"
   ]
  },
  {
   "cell_type": "code",
   "execution_count": 7,
   "id": "9b2b34ae-5320-433e-bac8-509b22ad647d",
   "metadata": {},
   "outputs": [
    {
     "name": "stdout",
     "output_type": "stream",
     "text": [
      "\n",
      "Updated Data Types:\n",
      "CustomerID                 int64\n",
      "Gender                    object\n",
      "Age                        int64\n",
      "Annual Income (k$)         int64\n",
      "Spending Score (1-100)     int64\n",
      "dtype: object\n"
     ]
    }
   ],
   "source": [
    "if 'AgeGroup' in age_income_df.columns:\n",
    "    age_income_df['AgeGroup'] = age_income_df['AgeGroup'].astype('category').cat.codes\n",
    "\n",
    "print(\"\\nUpdated Data Types:\")\n",
    "print(age_income_df.dtypes)"
   ]
  },
  {
   "cell_type": "code",
   "execution_count": 11,
   "id": "8834358a-e2ca-4ac4-8e9a-45d4b6a98883",
   "metadata": {},
   "outputs": [
    {
     "name": "stdout",
     "output_type": "stream",
     "text": [
      "\n",
      "Updated Data Types:\n",
      "CustomerID                   int64\n",
      "Gender                      object\n",
      "Age                          int64\n",
      "Annual Income (k$)           int64\n",
      "Spending Score (1-100)       int64\n",
      "AgeGroup                  category\n",
      "dtype: object\n",
      "\n",
      "Summary Statistics for Annual Income Grouped by AgeGroup:\n",
      "               mean  median  min  max        std\n",
      "AgeGroup                                        \n",
      "18-25     45.029412    47.0   15   81  21.877739\n",
      "26-35     68.150000    74.5   17  137  30.747096\n",
      "36-45     72.055556    72.0   20  126  24.071257\n",
      "46-55     57.729730    57.0   23  120  21.693123\n",
      "56-65     55.294118    54.0   19   93  21.805288\n",
      "65+       51.416667    51.5   19   63  12.616427\n"
     ]
    },
    {
     "name": "stderr",
     "output_type": "stream",
     "text": [
      "C:\\Users\\HP\\AppData\\Local\\Temp\\ipykernel_9420\\1117175857.py:11: FutureWarning: The default of observed=False is deprecated and will be changed to True in a future version of pandas. Pass observed=False to retain current behavior or observed=True to adopt the future default and silence this warning.\n",
      "  summary_stats_age_income = age_income_df.groupby('AgeGroup')['Annual Income (k$)'].agg(['mean', 'median', 'min', 'max', 'std'])\n"
     ]
    }
   ],
   "source": [
    "bins = [18, 25, 35, 45, 55, 65, 100]  # Define age bins\n",
    "labels = ['18-25', '26-35', '36-45', '46-55', '56-65', '65+']\n",
    "age_income_df['AgeGroup'] = pd.cut(age_income_df['Age'], bins=bins, labels=labels)\n",
    "\n",
    "print(\"\\nUpdated Data Types:\")\n",
    "print(age_income_df.dtypes)\n",
    "\n",
    "# Step 6: Descriptive Statistics - Measures of Central Tendency and Variability\n",
    "# Provide summary statistics for income grouped by AgeGroup\n",
    "if 'AgeGroup' in age_income_df.columns and 'Annual Income (k$)' in age_income_df.columns:\n",
    "    summary_stats_age_income = age_income_df.groupby('AgeGroup')['Annual Income (k$)'].agg(['mean', 'median', 'min', 'max', 'std'])\n",
    "    print(\"\\nSummary Statistics for Annual Income Grouped by AgeGroup:\")\n",
    "    print(summary_stats_age_income)"
   ]
  },
  {
   "cell_type": "code",
   "execution_count": 10,
   "id": "1ad5f023-5ecc-4589-ab95-cd59c531db1e",
   "metadata": {},
   "outputs": [
    {
     "name": "stdout",
     "output_type": "stream",
     "text": [
      "Index(['CustomerID', 'Gender', 'Age', 'Annual Income (k$)',\n",
      "       'Spending Score (1-100)'],\n",
      "      dtype='object')\n"
     ]
    }
   ],
   "source": [
    "print(age_income_df.columns)\n"
   ]
  },
  {
   "cell_type": "code",
   "execution_count": 12,
   "id": "737c4136-74d2-45ba-979b-0624e6682611",
   "metadata": {},
   "outputs": [],
   "source": [
    "iris_path = \"iris.csv\"\n",
    "iris_df = pd.read_csv(iris_path)"
   ]
  },
  {
   "cell_type": "code",
   "execution_count": 13,
   "id": "4f2e779d-d800-41d2-9b7c-8ee865364e37",
   "metadata": {},
   "outputs": [
    {
     "name": "stdout",
     "output_type": "stream",
     "text": [
      "\n",
      "Statistical Summary for Iris Species:\n",
      "           sepal_length                                              \\\n",
      "                  count   mean       std  min    25%  50%  75%  max   \n",
      "species                                                               \n",
      "setosa             50.0  5.006  0.352490  4.3  4.800  5.0  5.2  5.8   \n",
      "versicolor         50.0  5.936  0.516171  4.9  5.600  5.9  6.3  7.0   \n",
      "virginica          50.0  6.588  0.635880  4.9  6.225  6.5  6.9  7.9   \n",
      "\n",
      "           sepal_width         ... petal_length      petal_width         \\\n",
      "                 count   mean  ...          75%  max       count   mean   \n",
      "species                        ...                                        \n",
      "setosa            50.0  3.428  ...        1.575  1.9        50.0  0.246   \n",
      "versicolor        50.0  2.770  ...        4.600  5.1        50.0  1.326   \n",
      "virginica         50.0  2.974  ...        5.875  6.9        50.0  2.026   \n",
      "\n",
      "                                               \n",
      "                 std  min  25%  50%  75%  max  \n",
      "species                                        \n",
      "setosa      0.105386  0.1  0.2  0.2  0.3  0.6  \n",
      "versicolor  0.197753  1.0  1.2  1.3  1.5  1.8  \n",
      "virginica   0.274650  1.4  1.8  2.0  2.3  2.5  \n",
      "\n",
      "[3 rows x 32 columns]\n"
     ]
    }
   ],
   "source": [
    "iris_summary = iris_df.groupby('species').describe()\n",
    "print(\"\\nStatistical Summary for Iris Species:\")\n",
    "print(iris_summary)"
   ]
  },
  {
   "cell_type": "code",
   "execution_count": 14,
   "id": "463578bb-81d1-4584-8669-1cf0ba44736e",
   "metadata": {},
   "outputs": [
    {
     "name": "stdout",
     "output_type": "stream",
     "text": [
      "\n",
      "Median values for Iris Species:\n",
      "            sepal_length  sepal_width  petal_length  petal_width\n",
      "species                                                         \n",
      "setosa               5.0          3.4          1.50          0.2\n",
      "versicolor           5.9          2.8          4.35          1.3\n",
      "virginica            6.5          3.0          5.55          2.0\n"
     ]
    }
   ],
   "source": [
    "iris_median = iris_df.groupby('species').median()\n",
    "print(\"\\nMedian values for Iris Species:\")\n",
    "print(iris_median)\n"
   ]
  },
  {
   "cell_type": "code",
   "execution_count": 15,
   "id": "5a58e594-38d7-43c9-ba00-a2b1faf69bd5",
   "metadata": {},
   "outputs": [
    {
     "name": "stdout",
     "output_type": "stream",
     "text": [
      "\n",
      "Percentiles (25th, 50th, 75th) for Iris Species:\n",
      "                 sepal_length  sepal_width  petal_length  petal_width\n",
      "species                                                              \n",
      "setosa     0.25         4.800        3.200         1.400          0.2\n",
      "           0.50         5.000        3.400         1.500          0.2\n",
      "           0.75         5.200        3.675         1.575          0.3\n",
      "versicolor 0.25         5.600        2.525         4.000          1.2\n",
      "           0.50         5.900        2.800         4.350          1.3\n",
      "           0.75         6.300        3.000         4.600          1.5\n",
      "virginica  0.25         6.225        2.800         5.100          1.8\n",
      "           0.50         6.500        3.000         5.550          2.0\n",
      "           0.75         6.900        3.175         5.875          2.3\n"
     ]
    }
   ],
   "source": [
    "iris_percentiles = iris_df.groupby('species').quantile([0.25, 0.5, 0.75])  # 25th, 50th (median), and 75th percentile\n",
    "print(\"\\nPercentiles (25th, 50th, 75th) for Iris Species:\")\n",
    "print(iris_percentiles)"
   ]
  },
  {
   "cell_type": "code",
   "execution_count": 16,
   "id": "2c6b79fc-c2d4-43ba-b91e-ec48c0914cd4",
   "metadata": {},
   "outputs": [
    {
     "name": "stdout",
     "output_type": "stream",
     "text": [
      "\n",
      "Statistical Summary for Iris Species:\n",
      "           sepal_length                                              \\\n",
      "                  count   mean       std  min    25%  50%  75%  max   \n",
      "species                                                               \n",
      "setosa             50.0  5.006  0.352490  4.3  4.800  5.0  5.2  5.8   \n",
      "versicolor         50.0  5.936  0.516171  4.9  5.600  5.9  6.3  7.0   \n",
      "virginica          50.0  6.588  0.635880  4.9  6.225  6.5  6.9  7.9   \n",
      "\n",
      "           sepal_width         ... petal_length      petal_width         \\\n",
      "                 count   mean  ...          75%  max       count   mean   \n",
      "species                        ...                                        \n",
      "setosa            50.0  3.428  ...        1.575  1.9        50.0  0.246   \n",
      "versicolor        50.0  2.770  ...        4.600  5.1        50.0  1.326   \n",
      "virginica         50.0  2.974  ...        5.875  6.9        50.0  2.026   \n",
      "\n",
      "                                               \n",
      "                 std  min  25%  50%  75%  max  \n",
      "species                                        \n",
      "setosa      0.105386  0.1  0.2  0.2  0.3  0.6  \n",
      "versicolor  0.197753  1.0  1.2  1.3  1.5  1.8  \n",
      "virginica   0.274650  1.4  1.8  2.0  2.3  2.5  \n",
      "\n",
      "[3 rows x 32 columns]\n"
     ]
    }
   ],
   "source": [
    "iris_summary = iris_df.groupby('species').describe()\n",
    "print(\"\\nStatistical Summary for Iris Species:\")\n",
    "print(iris_summary)\n"
   ]
  },
  {
   "cell_type": "code",
   "execution_count": null,
   "id": "df7db8e7-e520-43ec-9d88-d4e3e6de570c",
   "metadata": {},
   "outputs": [],
   "source": []
  }
 ],
 "metadata": {
  "kernelspec": {
   "display_name": "Python 3 (ipykernel)",
   "language": "python",
   "name": "python3"
  },
  "language_info": {
   "codemirror_mode": {
    "name": "ipython",
    "version": 3
   },
   "file_extension": ".py",
   "mimetype": "text/x-python",
   "name": "python",
   "nbconvert_exporter": "python",
   "pygments_lexer": "ipython3",
   "version": "3.11.9"
  }
 },
 "nbformat": 4,
 "nbformat_minor": 5
}
