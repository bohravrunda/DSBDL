{
 "cells": [
  {
   "cell_type": "code",
   "execution_count": 1,
   "id": "8a69bbde-6fcf-48c5-ba75-fd1262a6832f",
   "metadata": {},
   "outputs": [],
   "source": [
    "import pandas as pd\n",
    "import numpy as np\n",
    "import seaborn as sns\n",
    "import matplotlib.pyplot as plt"
   ]
  },
  {
   "cell_type": "code",
   "execution_count": 5,
   "id": "4a57aa58-1d9c-4b57-a816-e8a980fdbdb9",
   "metadata": {},
   "outputs": [],
   "source": [
    "df = pd.read_csv(\"student_mat.csv\")  \n"
   ]
  },
  {
   "cell_type": "code",
   "execution_count": 6,
   "id": "ff14b74a-7bb5-4981-b16b-d6b650c08e3b",
   "metadata": {},
   "outputs": [
    {
     "name": "stdout",
     "output_type": "stream",
     "text": [
      "\n",
      "🔹 Checking for Missing Values:\n",
      " school        0\n",
      "sex           0\n",
      "age           0\n",
      "address       0\n",
      "famsize       0\n",
      "pstatus       0\n",
      "medu          0\n",
      "fedu          0\n",
      "mjob          0\n",
      "fjob          0\n",
      "reason        0\n",
      "guardian      0\n",
      "traveltime    0\n",
      "studytime     0\n",
      "failures      0\n",
      "schoolsup     0\n",
      "famsup        0\n",
      "paid          0\n",
      "activities    0\n",
      "nursery       0\n",
      "higher        0\n",
      "internet      0\n",
      "romantic      0\n",
      "famrel        0\n",
      "freetime      0\n",
      "goout         0\n",
      "dalc          0\n",
      "walc          0\n",
      "health        0\n",
      "absences      0\n",
      "g1            0\n",
      "g2            0\n",
      "g3            0\n",
      "dtype: int64\n"
     ]
    }
   ],
   "source": [
    "print(\"\\n🔹 Checking for Missing Values:\\n\", df.isnull().sum())\n"
   ]
  },
  {
   "cell_type": "code",
   "execution_count": 7,
   "id": "fee204f2-7c4f-41a8-a429-506e5832c1a1",
   "metadata": {},
   "outputs": [
    {
     "name": "stdout",
     "output_type": "stream",
     "text": [
      "\n",
      "🔹 Summary Statistics:\n",
      "               age        medu        fedu  traveltime   studytime    failures  \\\n",
      "count  395.000000  395.000000  395.000000  395.000000  395.000000  395.000000   \n",
      "mean    16.696203    2.749367    2.521519    1.448101    2.035443    0.334177   \n",
      "std      1.276043    1.094735    1.088201    0.697505    0.839240    0.743651   \n",
      "min     15.000000    0.000000    0.000000    1.000000    1.000000    0.000000   \n",
      "25%     16.000000    2.000000    2.000000    1.000000    1.000000    0.000000   \n",
      "50%     17.000000    3.000000    2.000000    1.000000    2.000000    0.000000   \n",
      "75%     18.000000    4.000000    3.000000    2.000000    2.000000    0.000000   \n",
      "max     22.000000    4.000000    4.000000    4.000000    4.000000    3.000000   \n",
      "\n",
      "           famrel    freetime       goout        dalc        walc      health  \\\n",
      "count  395.000000  395.000000  395.000000  395.000000  395.000000  395.000000   \n",
      "mean     3.944304    3.235443    3.108861    1.481013    2.291139    3.554430   \n",
      "std      0.896659    0.998862    1.113278    0.890741    1.287897    1.390303   \n",
      "min      1.000000    1.000000    1.000000    1.000000    1.000000    1.000000   \n",
      "25%      4.000000    3.000000    2.000000    1.000000    1.000000    3.000000   \n",
      "50%      4.000000    3.000000    3.000000    1.000000    2.000000    4.000000   \n",
      "75%      5.000000    4.000000    4.000000    2.000000    3.000000    5.000000   \n",
      "max      5.000000    5.000000    5.000000    5.000000    5.000000    5.000000   \n",
      "\n",
      "         absences          g1          g2          g3  \n",
      "count  395.000000  395.000000  395.000000  395.000000  \n",
      "mean     5.708861   10.908861   10.713924   10.415190  \n",
      "std      8.003096    3.319195    3.761505    4.581443  \n",
      "min      0.000000    3.000000    0.000000    0.000000  \n",
      "25%      0.000000    8.000000    9.000000    8.000000  \n",
      "50%      4.000000   11.000000   11.000000   11.000000  \n",
      "75%      8.000000   13.000000   13.000000   14.000000  \n",
      "max     75.000000   19.000000   19.000000   20.000000  \n"
     ]
    }
   ],
   "source": [
    "print(\"\\n🔹 Summary Statistics:\\n\", df.describe())\n"
   ]
  },
  {
   "cell_type": "code",
   "execution_count": 8,
   "id": "47e3feed-919a-4f0f-b42f-125d491aeb86",
   "metadata": {},
   "outputs": [
    {
     "name": "stdout",
     "output_type": "stream",
     "text": [
      "\n",
      "🔹 Dataset Shape: (395, 33)\n"
     ]
    }
   ],
   "source": [
    "print(\"\\n🔹 Dataset Shape:\", df.shape)\n"
   ]
  },
  {
   "cell_type": "code",
   "execution_count": 9,
   "id": "cdb528bf-d214-4352-9738-46148d607218",
   "metadata": {},
   "outputs": [
    {
     "name": "stdout",
     "output_type": "stream",
     "text": [
      "\n",
      "🔹 Data Types:\n",
      " school        object\n",
      "sex           object\n",
      "age            int64\n",
      "address       object\n",
      "famsize       object\n",
      "pstatus       object\n",
      "medu           int64\n",
      "fedu           int64\n",
      "mjob          object\n",
      "fjob          object\n",
      "reason        object\n",
      "guardian      object\n",
      "traveltime     int64\n",
      "studytime      int64\n",
      "failures       int64\n",
      "schoolsup       bool\n",
      "famsup          bool\n",
      "paid            bool\n",
      "activities      bool\n",
      "nursery         bool\n",
      "higher          bool\n",
      "internet        bool\n",
      "romantic        bool\n",
      "famrel         int64\n",
      "freetime       int64\n",
      "goout          int64\n",
      "dalc           int64\n",
      "walc           int64\n",
      "health         int64\n",
      "absences       int64\n",
      "g1             int64\n",
      "g2             int64\n",
      "g3             int64\n",
      "dtype: object\n"
     ]
    }
   ],
   "source": [
    "print(\"\\n🔹 Data Types:\\n\", df.dtypes)\n"
   ]
  },
  {
   "cell_type": "code",
   "execution_count": 12,
   "id": "553053a7-6f1c-45fb-8572-2f657987f07a",
   "metadata": {},
   "outputs": [
    {
     "name": "stdout",
     "output_type": "stream",
     "text": [
      "Index(['school', 'sex', 'age', 'address', 'famsize', 'pstatus', 'medu', 'fedu',\n",
      "       'mjob', 'fjob', 'reason', 'guardian', 'traveltime', 'studytime',\n",
      "       'failures', 'schoolsup', 'famsup', 'paid', 'activities', 'nursery',\n",
      "       'higher', 'internet', 'romantic', 'famrel', 'freetime', 'goout', 'dalc',\n",
      "       'walc', 'health', 'absences', 'g1', 'g2', 'g3'],\n",
      "      dtype='object')\n"
     ]
    }
   ],
   "source": [
    "print(df.columns)"
   ]
  },
  {
   "cell_type": "code",
   "execution_count": 14,
   "id": "48b7bbe9-d9c9-4df5-844a-2acfc3dfc254",
   "metadata": {},
   "outputs": [
    {
     "name": "stdout",
     "output_type": "stream",
     "text": [
      "\n",
      "Dataset Info:\n",
      "<class 'pandas.core.frame.DataFrame'>\n",
      "RangeIndex: 395 entries, 0 to 394\n",
      "Data columns (total 33 columns):\n",
      " #   Column      Non-Null Count  Dtype \n",
      "---  ------      --------------  ----- \n",
      " 0   school      395 non-null    object\n",
      " 1   sex         395 non-null    object\n",
      " 2   age         395 non-null    int64 \n",
      " 3   address     395 non-null    object\n",
      " 4   famsize     395 non-null    object\n",
      " 5   pstatus     395 non-null    object\n",
      " 6   medu        395 non-null    int64 \n",
      " 7   fedu        395 non-null    int64 \n",
      " 8   mjob        395 non-null    object\n",
      " 9   fjob        395 non-null    object\n",
      " 10  reason      395 non-null    object\n",
      " 11  guardian    395 non-null    object\n",
      " 12  traveltime  395 non-null    int64 \n",
      " 13  studytime   395 non-null    int64 \n",
      " 14  failures    395 non-null    int64 \n",
      " 15  schoolsup   395 non-null    bool  \n",
      " 16  famsup      395 non-null    bool  \n",
      " 17  paid        395 non-null    bool  \n",
      " 18  activities  395 non-null    bool  \n",
      " 19  nursery     395 non-null    bool  \n",
      " 20  higher      395 non-null    bool  \n",
      " 21  internet    395 non-null    bool  \n",
      " 22  romantic    395 non-null    bool  \n",
      " 23  famrel      395 non-null    int64 \n",
      " 24  freetime    395 non-null    int64 \n",
      " 25  goout       395 non-null    int64 \n",
      " 26  dalc        395 non-null    int64 \n",
      " 27  walc        395 non-null    int64 \n",
      " 28  health      395 non-null    int64 \n",
      " 29  absences    395 non-null    int64 \n",
      " 30  g1          395 non-null    int64 \n",
      " 31  g2          395 non-null    int64 \n",
      " 32  g3          395 non-null    int64 \n",
      "dtypes: bool(8), int64(16), object(9)\n",
      "memory usage: 80.4+ KB\n",
      "None\n"
     ]
    }
   ],
   "source": [
    "print(\"\\nDataset Info:\")\n",
    "print(df.info())\n",
    "\n",
    "# 3️⃣ **Handle Categorical Variables** (Convert them to numerical format)\n",
    "categorical_columns = ['school', 'sex', 'address', 'famsize', 'pstatus', 'mjob', 'fjob', 'reason', 'guardian']"
   ]
  },
  {
   "cell_type": "code",
   "execution_count": 15,
   "id": "32f43f0b-8c8d-4a82-aaac-2aa12a727f01",
   "metadata": {},
   "outputs": [],
   "source": [
    "for col in categorical_columns:\n",
    "    df[col] = df[col].astype('category').cat.codes"
   ]
  },
  {
   "cell_type": "code",
   "execution_count": 16,
   "id": "a67a3568-3ba5-4ed0-ae0c-69d2e5200de8",
   "metadata": {},
   "outputs": [
    {
     "name": "stdout",
     "output_type": "stream",
     "text": [
      "\n",
      "Updated Categorical Columns (Converted to Numeric):\n",
      "   school  sex  age  address  famsize  pstatus  medu  fedu  mjob  fjob  ...  \\\n",
      "0       0    0   18        1        0        0     4     4     0     4  ...   \n",
      "1       0    0   17        1        0        1     1     1     0     2  ...   \n",
      "2       0    0   15        1        1        1     1     1     0     2  ...   \n",
      "3       0    0   15        1        0        1     4     2     1     3  ...   \n",
      "4       0    0   16        1        0        1     3     3     2     2  ...   \n",
      "\n",
      "   famrel  freetime  goout  dalc  walc  health  absences  g1  g2  g3  \n",
      "0       4         3      4     1     1       3         6   5   6   6  \n",
      "1       5         3      3     1     1       3         4   5   5   6  \n",
      "2       4         3      2     2     3       3        10   7   8  10  \n",
      "3       3         2      2     1     1       5         2  15  14  15  \n",
      "4       4         3      2     1     2       5         4   6  10  10  \n",
      "\n",
      "[5 rows x 33 columns]\n"
     ]
    }
   ],
   "source": [
    "print(\"\\nUpdated Categorical Columns (Converted to Numeric):\")\n",
    "print(df.head())"
   ]
  },
  {
   "cell_type": "code",
   "execution_count": 18,
   "id": "9851a817-6afb-45ba-a24b-0c27445ea890",
   "metadata": {},
   "outputs": [],
   "source": [
    "Q1 = df['absences'].quantile(0.25)\n",
    "Q3 = df['absences'].quantile(0.75)\n",
    "IQR = Q3 - Q1\n",
    "lower_bound = Q1 - 1.5 * IQR\n",
    "upper_bound = Q3 + 1.5 * IQR\n"
   ]
  },
  {
   "cell_type": "code",
   "execution_count": 20,
   "id": "9f2601d8-acc4-4cca-9e3e-5dae5c5ee5c4",
   "metadata": {},
   "outputs": [],
   "source": [
    "df = df[(df['absences'] >= lower_bound) & (df['absences'] <= upper_bound)]\n"
   ]
  },
  {
   "cell_type": "code",
   "execution_count": 26,
   "id": "72bc2317-ae90-4e16-934b-b0d631e5e546",
   "metadata": {},
   "outputs": [
    {
     "data": {
      "image/png": "[encoded data removed]",
      "text/plain": [
       "<Figure size 1200x500 with 2 Axes>"
      ]
     },
     "metadata": {},
     "output_type": "display_data"
    }
   ],
   "source": [
    "if 'absences' in df.columns:\n",
    "    df.loc[:, 'absences_log'] = np.log1p(df['absences'])\n",
    "\n",
    "    # Plot before and after transformation\n",
    "    fig, ax = plt.subplots(1, 2, figsize=(12, 5))\n",
    "    sns.histplot(df['absences'], bins=20, kde=True, ax=ax[0])\n",
    "    ax[0].set_title(\"Original Absences Distribution\")\n",
    "\n",
    "    sns.histplot(df['absences_log'], bins=20, kde=True, ax=ax[1])\n",
    "    ax[1].set_title(\"Log Transformed Absences Distribution\")\n",
    "\n",
    "    plt.show()"
   ]
  },
  {
   "cell_type": "code",
   "execution_count": null,
   "id": "338fa63a-98cd-4e63-95eb-ac045eb452b6",
   "metadata": {},
   "outputs": [],
   "source": []
  }
 ],
 "metadata": {
  "kernelspec": {
   "display_name": "Python 3 (ipykernel)",
   "language": "python",
   "name": "python3"
  },
  "language_info": {
   "codemirror_mode": {
    "name": "ipython",
    "version": 3
   },
   "file_extension": ".py",
   "mimetype": "text/x-python",
   "name": "python",
   "nbconvert_exporter": "python",
   "pygments_lexer": "ipython3",
   "version": "3.11.9"
  }
 },
 "nbformat": 4,
 "nbformat_minor": 5
}
