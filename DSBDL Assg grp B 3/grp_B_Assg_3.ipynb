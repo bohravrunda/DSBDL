{
 "cells": [
  {
   "cell_type": "code",
   "execution_count": 1,
   "id": "02321675-4e4a-41cc-957b-48107a43f02f",
   "metadata": {},
   "outputs": [],
   "source": [
    "import pandas as pd\n"
   ]
  },
  {
   "cell_type": "code",
   "execution_count": 3,
   "id": "a2679c12-4253-4f59-bdd1-d21d00d5c094",
   "metadata": {},
   "outputs": [],
   "source": [
    " df = pd.read_csv(\"weatherhistory.csv\")"
   ]
  },
  {
   "cell_type": "code",
   "execution_count": 4,
   "id": "7854d219-805a-4968-b9f6-c1d9292e7029",
   "metadata": {},
   "outputs": [
    {
     "name": "stdout",
     "output_type": "stream",
     "text": [
      "                  Formatted Date        Summary Precip Type  Temperature (C)  \\\n",
      "0  2006-04-01 00:00:00.000 +0200  Partly Cloudy        rain         9.472222   \n",
      "1  2006-04-01 01:00:00.000 +0200  Partly Cloudy        rain         9.355556   \n",
      "2  2006-04-01 02:00:00.000 +0200  Mostly Cloudy        rain         9.377778   \n",
      "3  2006-04-01 03:00:00.000 +0200  Partly Cloudy        rain         8.288889   \n",
      "4  2006-04-01 04:00:00.000 +0200  Mostly Cloudy        rain         8.755556   \n",
      "\n",
      "   Apparent Temperature (C)  Humidity  Wind Speed (km/h)  \\\n",
      "0                  7.388889      0.89            14.1197   \n",
      "1                  7.227778      0.86            14.2646   \n",
      "2                  9.377778      0.89             3.9284   \n",
      "3                  5.944444      0.83            14.1036   \n",
      "4                  6.977778      0.83            11.0446   \n",
      "\n",
      "   Wind Bearing (degrees)  Visibility (km)  Loud Cover  Pressure (millibars)  \\\n",
      "0                   251.0          15.8263         0.0               1015.13   \n",
      "1                   259.0          15.8263         0.0               1015.63   \n",
      "2                   204.0          14.9569         0.0               1015.94   \n",
      "3                   269.0          15.8263         0.0               1016.41   \n",
      "4                   259.0          15.8263         0.0               1016.51   \n",
      "\n",
      "                       Daily Summary  \n",
      "0  Partly cloudy throughout the day.  \n",
      "1  Partly cloudy throughout the day.  \n",
      "2  Partly cloudy throughout the day.  \n",
      "3  Partly cloudy throughout the day.  \n",
      "4  Partly cloudy throughout the day.  \n"
     ]
    }
   ],
   "source": [
    "print(df.head())"
   ]
  },
  {
   "cell_type": "code",
   "execution_count": 5,
   "id": "dffe1c2d-2928-43fa-924a-fa14250c49f5",
   "metadata": {},
   "outputs": [
    {
     "name": "stdout",
     "output_type": "stream",
     "text": [
      "Index(['Formatted Date', 'Summary', 'Precip Type', 'Temperature (C)',\n",
      "       'Apparent Temperature (C)', 'Humidity', 'Wind Speed (km/h)',\n",
      "       'Wind Bearing (degrees)', 'Visibility (km)', 'Loud Cover',\n",
      "       'Pressure (millibars)', 'Daily Summary'],\n",
      "      dtype='object')\n"
     ]
    }
   ],
   "source": [
    "print(df.columns)"
   ]
  },
  {
   "cell_type": "code",
   "execution_count": 6,
   "id": "955068c1-11eb-4248-8e86-3eca5906583a",
   "metadata": {},
   "outputs": [
    {
     "name": "stdout",
     "output_type": "stream",
     "text": [
      "Index(['Formatted Date', 'Summary', 'Precip Type', 'Temperature', 'DewPoint',\n",
      "       'Humidity', 'WindSpeed', 'Wind Bearing (degrees)', 'Visibility (km)',\n",
      "       'Loud Cover', 'Pressure (millibars)', 'Daily Summary'],\n",
      "      dtype='object')\n"
     ]
    }
   ],
   "source": [
    " # Rename columns as per the requirements\n",
    " # rename() function is used to rename the function\n",
    " # inplace=True is used to return a modified copy of dataframe\n",
    " df.rename(columns={\n",
    " \"Temperature (C)\": \"Temperature\",\n",
    " \"Apparent Temperature (C)\": \"DewPoint\", \n",
    "# Using Apparent Temperature as Dew Point alternative\n",
    " \"Wind Speed (km/h)\": \"WindSpeed\"\n",
    " }, inplace=True)\n",
    " # Check if renaming was successful\n",
    " print(df.columns)"
   ]
  },
  {
   "cell_type": "code",
   "execution_count": 7,
   "id": "1b2bb930-9855-4b1d-bc0e-2789f260c093",
   "metadata": {},
   "outputs": [
    {
     "name": "stdout",
     "output_type": "stream",
     "text": [
      "Average Temperature: 11.93°C\n",
      "Average Dew Point: 10.86°C\n",
      "Average Wind Speed: 10.81 km/h\n"
     ]
    }
   ],
   "source": [
    " # Compute averages of temperature , dew point and wind speed\n",
    " avg_temp = df[\"Temperature\"].mean()\n",
    " avg_dew_point = df[\"DewPoint\"].mean()\n",
    " avg_wind_speed = df[\"WindSpeed\"].mean()\n",
    " # Print results\n",
    " print(f\"Average Temperature: {avg_temp:.2f}°C\")\n",
    " print(f\"Average Dew Point: {avg_dew_point:.2f}°C\")\n",
    " print(f\"Average Wind Speed: {avg_wind_speed:.2f} km/h\")"
   ]
  },
  {
   "cell_type": "code",
   "execution_count": 8,
   "id": "2fcc0ecd-44cc-4d37-b1ef-95c480eb1181",
   "metadata": {},
   "outputs": [],
   "source": [
    " # Save the cleaned data to a new CSV file\n",
    " df.to_csv(\"processed_weatherhistory.csv\", index=False)"
   ]
  },
  {
   "cell_type": "code",
   "execution_count": null,
   "id": "dab3e3fe-8d2f-436a-9043-4080dee11308",
   "metadata": {},
   "outputs": [],
   "source": []
  }
 ],
 "metadata": {
  "kernelspec": {
   "display_name": "Python 3 (ipykernel)",
   "language": "python",
   "name": "python3"
  },
  "language_info": {
   "codemirror_mode": {
    "name": "ipython",
    "version": 3
   },
   "file_extension": ".py",
   "mimetype": "text/x-python",
   "name": "python",
   "nbconvert_exporter": "python",
   "pygments_lexer": "ipython3",
   "version": "3.11.9"
  }
 },
 "nbformat": 4,
 "nbformat_minor": 5
}
